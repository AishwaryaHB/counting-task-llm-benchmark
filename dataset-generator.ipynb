{
 "cells": [
  {
   "cell_type": "markdown",
   "id": "4bab40af-afa4-4aa6-84b2-41e7025a9e75",
   "metadata": {},
   "source": [
    "#### Imports"
   ]
  },
  {
   "cell_type": "code",
   "execution_count": 1,
   "id": "a45c0186-6ef6-4371-9372-12a10a94c3e0",
   "metadata": {},
   "outputs": [],
   "source": [
    "import numpy as np\n",
    "import json\n",
    "import random\n",
    "from typing import List, Dict, Tuple"
   ]
  },
  {
   "cell_type": "markdown",
   "id": "4c7335fa-181a-4c3f-8a4c-3127d2da05e9",
   "metadata": {},
   "source": [
    "#### Define categories and vocabulary"
   ]
  },
  {
   "cell_type": "code",
   "execution_count": 2,
   "id": "a02b264b-0630-4af3-8edd-3248564a14c0",
   "metadata": {},
   "outputs": [],
   "source": [
    "categories = {\n",
    "   'fruits': ['apple', 'banana', 'orange', 'grape', 'strawberry', 'pineapple', 'mango', 'cherry', 'peach', 'watermelon'],\n",
    "   'cities': ['Paris', 'Tokyo', 'London', 'Sydney', 'Cairo', 'Mumbai', 'Toronto', 'Berlin', 'Rio', 'Bangkok'],\n",
    "   'animals': ['dog', 'cat', 'elephant', 'tiger', 'rabbit', 'horse', 'dolphin', 'eagle', 'snake', 'penguin'],\n",
    "   'sports': ['soccer', 'basketball', 'tennis', 'swimming', 'baseball', 'golf', 'hockey', 'volleyball', 'boxing', 'cycling'],\n",
    "   'professions': ['doctor', 'teacher', 'engineer', 'lawyer', 'chef', 'nurse', 'pilot', 'mechanic', 'architect', 'firefighter'],\n",
    "   'misc': ['chair', 'computer', 'book', 'mirror', 'clock', 'bicycle', 'phone', 'lamp', 'bottle', 'keyboard']\n",
    "}"
   ]
  },
  {
   "cell_type": "code",
   "execution_count": 3,
   "id": "86ca848e-ad16-4b42-a5ca-c236e25b6d21",
   "metadata": {},
   "outputs": [],
   "source": [
    "category_names = list(categories.keys())"
   ]
  },
  {
   "cell_type": "code",
   "execution_count": 4,
   "id": "e5878ee2-23b1-49f9-a1f2-faf55f0ab7ad",
   "metadata": {},
   "outputs": [
    {
     "name": "stdout",
     "output_type": "stream",
     "text": [
      "Total vocabulary size: 60 words\n",
      "Categories: ['fruits', 'cities', 'animals', 'sports', 'professions', 'misc']\n"
     ]
    }
   ],
   "source": [
    "# Total vocabulary size\n",
    "all_words = []\n",
    "for category_items in categories.values():\n",
    "   all_words.extend(category_items)\n",
    "\n",
    "print(f\"Total vocabulary size: {len(all_words)} words\")\n",
    "print(f\"Categories: {category_names}\")"
   ]
  },
  {
   "cell_type": "markdown",
   "id": "242675de-a3d6-482f-b053-221b0ffba85c",
   "metadata": {},
   "source": [
    "#### Generate dataset"
   ]
  },
  {
   "cell_type": "code",
   "execution_count": 5,
   "id": "9c6fe1b5-d88d-4d2b-8bdd-54a73712cc50",
   "metadata": {},
   "outputs": [],
   "source": [
    "def generate_dataset(num_samples: int, min_len: int, max_len: int, categories: Dict[str, List[str]]) -> List[Dict]:\n",
    "    \"\"\"\n",
    "    Generate a dataset of word counting examples.\n",
    "    Args:\n",
    "        num_samples: Number of examples to generate\n",
    "        min_len: Minimum length of each word list\n",
    "        max_len: Maximum length of each word list\n",
    "        categories: Dictionary of category names to word lists\n",
    "    Returns:\n",
    "        List of dictionaries, each containing:\n",
    "        - 'type': the target category\n",
    "        - 'list': the word list\n",
    "        - 'answer': the count of target category words\n",
    "    \"\"\"\n",
    "    # Categories that can be the target (excluding 'misc')\n",
    "    target_categories = [cat for cat in categories.keys() if cat != 'misc']\n",
    "    \n",
    "    # Use only misc words for non-target items\n",
    "    misc_words = categories['misc']\n",
    "    \n",
    "    dataset = []\n",
    "    \n",
    "    for _ in range(num_samples):\n",
    "        # Randomly select target category (not misc)\n",
    "        target_category = random.choice(target_categories)\n",
    "        \n",
    "        # Randomly select list length\n",
    "        list_length = random.randint(min_len, max_len)\n",
    "        \n",
    "        # Randomly decide how many target items to include\n",
    "        num_target_items = random.randint(0, min(list_length, len(categories[target_category])))\n",
    "        \n",
    "        # Sample target items (without replacement from the target category)\n",
    "        target_items = random.sample(categories[target_category], num_target_items)\n",
    "        \n",
    "        # Sample remaining items from misc words only\n",
    "        remaining_slots = list_length - num_target_items\n",
    "        non_target_items = random.choices(misc_words, k=remaining_slots)\n",
    "        \n",
    "        # Combine and shuffle the list\n",
    "        word_list = target_items + non_target_items\n",
    "        random.shuffle(word_list)\n",
    "        \n",
    "        # Create the example\n",
    "        example = {\n",
    "            'type': target_category,\n",
    "            'list': word_list,\n",
    "            'answer': num_target_items\n",
    "        }\n",
    "        \n",
    "        dataset.append(example)\n",
    "    \n",
    "    return dataset"
   ]
  },
  {
   "cell_type": "code",
   "execution_count": 6,
   "id": "05d0c04d-9615-41a0-9b8c-2b30d1744707",
   "metadata": {},
   "outputs": [],
   "source": [
    "# Example usage:\n",
    "dataset = generate_dataset(num_samples=10, min_len=5, max_len=12, categories=categories)"
   ]
  },
  {
   "cell_type": "code",
   "execution_count": 7,
   "id": "b4f1a55b-7407-4c18-8de6-1ee0ff1f82c5",
   "metadata": {},
   "outputs": [
    {
     "name": "stdout",
     "output_type": "stream",
     "text": [
      "Example 1:\n",
      "Type: professions\n",
      "List: ['firefighter', 'lamp', 'clock', 'bottle', 'mirror', 'mirror', 'phone', 'clock', 'computer', 'clock', 'computer', 'clock']\n",
      "Answer: (1)\n",
      "\n",
      "Example 2:\n",
      "Type: animals\n",
      "List: ['keyboard', 'clock', 'chair', 'eagle', 'keyboard', 'clock', 'book', 'lamp', 'chair', 'clock']\n",
      "Answer: (1)\n",
      "\n",
      "Example 3:\n",
      "Type: cities\n",
      "List: ['phone', 'computer', 'bottle', 'chair', 'Paris', 'chair', 'Sydney', 'computer']\n",
      "Answer: (2)\n",
      "\n",
      "Example 4:\n",
      "Type: animals\n",
      "List: ['dolphin', 'cat', 'book', 'horse', 'tiger']\n",
      "Answer: (4)\n",
      "\n",
      "Example 5:\n",
      "Type: cities\n",
      "List: ['Toronto', 'Tokyo', 'Sydney', 'Rio', 'Cairo', 'Paris', 'Mumbai']\n",
      "Answer: (7)\n",
      "\n",
      "Example 6:\n",
      "Type: fruits\n",
      "List: ['mango', 'pineapple', 'banana', 'grape', 'cherry', 'peach', 'watermelon', 'strawberry', 'orange']\n",
      "Answer: (9)\n",
      "\n",
      "Example 7:\n",
      "Type: animals\n",
      "List: ['book', 'bottle', 'lamp', 'mirror', 'phone', 'mirror', 'computer']\n",
      "Answer: (0)\n",
      "\n"
     ]
    }
   ],
   "source": [
    "# Print a few examples\n",
    "for i, example in enumerate(dataset[:7]):\n",
    "    print(f\"Example {i+1}:\")\n",
    "    print(f\"Type: {example['type']}\")\n",
    "    print(f\"List: {example['list']}\")\n",
    "    print(f\"Answer: ({example['answer']})\")\n",
    "    print()"
   ]
  },
  {
   "cell_type": "markdown",
   "id": "195a4789-418a-44cb-a2e2-61e3d259ad94",
   "metadata": {},
   "source": [
    "#### Save dataset"
   ]
  },
  {
   "cell_type": "code",
   "execution_count": 8,
   "id": "8cdbcbd9-6fe0-43f3-8576-f0779049e9d4",
   "metadata": {},
   "outputs": [],
   "source": [
    "def save_dataset(dataset: List[Dict], filename: str):\n",
    "    \"\"\"Save dataset to JSONL format\"\"\"\n",
    "    with open(filename, 'w') as f:\n",
    "        for example in dataset:\n",
    "            f.write(json.dumps(example) + '\\n')"
   ]
  },
  {
   "cell_type": "code",
   "execution_count": 9,
   "id": "de1b5598-795d-483f-b985-a2f1614c94e0",
   "metadata": {},
   "outputs": [],
   "source": [
    "# Generate and save your dataset\n",
    "dataset = generate_dataset(num_samples=5000, min_len=5, max_len=15, categories=categories)\n",
    "save_dataset(dataset, 'word_counting_dataset.jsonl')"
   ]
  },
  {
   "cell_type": "markdown",
   "id": "7d9625b9-763a-4fa3-a804-378d71e66987",
   "metadata": {},
   "source": [
    "#### Load dataset"
   ]
  },
  {
   "cell_type": "code",
   "execution_count": 10,
   "id": "e4528271-5f2c-4a19-9bd1-88fb458a30ca",
   "metadata": {},
   "outputs": [],
   "source": [
    "def load_dataset(filename: str) -> List[Dict]:\n",
    "    \"\"\"Load dataset from JSONL format\"\"\"\n",
    "    dataset = []\n",
    "    with open(filename, 'r') as f:\n",
    "        for line in f:\n",
    "            dataset.append(json.loads(line.strip()))\n",
    "    return dataset"
   ]
  },
  {
   "cell_type": "code",
   "execution_count": 11,
   "id": "78411fcb-1472-41fa-a77f-b7a5a108100a",
   "metadata": {},
   "outputs": [],
   "source": [
    "# Later, load for benchmarking\n",
    "loaded_dataset = load_dataset('word_counting_dataset.jsonl')"
   ]
  },
  {
   "cell_type": "code",
   "execution_count": null,
   "id": "be009a29-09e4-494d-9b02-804dbaa540f9",
   "metadata": {},
   "outputs": [],
   "source": []
  },
  {
   "cell_type": "code",
   "execution_count": null,
   "id": "94bbea09-ebbe-47e1-9873-587a11fb503a",
   "metadata": {},
   "outputs": [],
   "source": []
  },
  {
   "cell_type": "code",
   "execution_count": null,
   "id": "2222829a-4915-4ebb-92bc-53d5d1cd2a5f",
   "metadata": {},
   "outputs": [],
   "source": []
  },
  {
   "cell_type": "code",
   "execution_count": null,
   "id": "b8f9b490-2ed2-42c1-87ce-978762843023",
   "metadata": {},
   "outputs": [],
   "source": []
  }
 ],
 "metadata": {
  "kernelspec": {
   "display_name": "Python 3 (ipykernel)",
   "language": "python",
   "name": "python3"
  },
  "language_info": {
   "codemirror_mode": {
    "name": "ipython",
    "version": 3
   },
   "file_extension": ".py",
   "mimetype": "text/x-python",
   "name": "python",
   "nbconvert_exporter": "python",
   "pygments_lexer": "ipython3",
   "version": "3.10.12"
  }
 },
 "nbformat": 4,
 "nbformat_minor": 5
}
